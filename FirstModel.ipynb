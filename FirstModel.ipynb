{
 "cells": [
  {
   "cell_type": "code",
   "execution_count": 1,
   "id": "03ee32b9-c691-4d30-af31-6714b46c2c62",
   "metadata": {},
   "outputs": [],
   "source": [
    "import warnings\n",
    "warnings.filterwarnings('ignore')\n",
    "\n",
    "import numpy as np\n",
    "import pandas as pd\n",
    "import matplotlib.pyplot as plt\n",
    "import seaborn as sns\n",
    "from scipy.stats import loguniform, randint\n",
    "\n",
    "#import missingno as msno\n",
    "#import xgboost as xgb\n",
    "#from catboost import CatBoostRegressor\n",
    "\n",
    "from sklearn.compose import make_column_selector as selector\n",
    "from sklearn.compose import ColumnTransformer\n",
    "from sklearn.preprocessing import LabelEncoder, StandardScaler, OneHotEncoder, OrdinalEncoder\n",
    "from sklearn.ensemble import HistGradientBoostingClassifier\n",
    "from sklearn.impute import SimpleImputer\n",
    "from sklearn.model_selection import train_test_split, GridSearchCV, StratifiedKFold, KFold, cross_validate, ShuffleSplit,  RandomizedSearchCV\n",
    "from sklearn.linear_model import LogisticRegression\n",
    "from sklearn.neighbors import KNeighborsClassifier\n",
    "from sklearn.tree import DecisionTreeClassifier, plot_tree\n",
    "from sklearn.metrics import accuracy_score, classification_report, confusion_matrix, f1_score, make_scorer, roc_curve, auc\n",
    "from sklearn.pipeline import Pipeline, make_pipeline\n",
    "from sklearn.inspection import permutation_importance\n",
    "from sklearn.calibration import CalibratedClassifierCV\n",
    "\n",
    "import dtreeviz\n",
    "\n",
    "from mapie.classification import MapieClassifier"
   ]
  },
  {
   "cell_type": "code",
   "execution_count": 2,
   "id": "e08f7adb-caac-4adf-af72-ff3ab036ca1a",
   "metadata": {},
   "outputs": [],
   "source": [
    "data = pd.read_csv(\"./datasets/data.csv\", index_col=\"EmployeeID\")"
   ]
  },
  {
   "cell_type": "code",
   "execution_count": 3,
   "id": "c0cccf1a-6bab-4c3f-9a01-f4c354243095",
   "metadata": {},
   "outputs": [],
   "source": [
    "categorical_columns = [\n",
    "    \"EnvironmentSatisfaction\",\n",
    "    \"JobSatisfaction\",\n",
    "    \"WorkLifeBalance\",\n",
    "    \"BusinessTravel\",\n",
    "    \"Department\",\n",
    "    \"Education\",\n",
    "    \"EducationField\",\n",
    "    \"Gender\",\n",
    "    \"JobRole\",\n",
    "    \"MaritalStatus\",\n",
    "    \"JobLevel\",\n",
    "    \"StockOptionLevel\",\n",
    "    \"JobInvolvement\",\n",
    "    \"PerformanceRating\",\n",
    "]\n",
    "\n",
    "numerical_columns = [\n",
    "    \"Age\",\n",
    "    \"DistanceFromHome\",\n",
    "    \"MonthlyIncome\",\n",
    "    \"NumCompaniesWorked\",\n",
    "    \"PercentSalaryHike\",\n",
    "    \"TotalWorkingYears\",\n",
    "    \"TrainingTimesLastYear\",\n",
    "    \"YearsAtCompany\",\n",
    "    \"YearsSinceLastPromotion\",\n",
    "    \"YearsWithCurrManager\",\n",
    "    \"DaysNotWorked\",\n",
    "    \"AverageHoursPerday\"\n",
    "]\n",
    "\n",
    "col_with_NA = ['NumCompaniesWorked', 'TotalWorkingYears'] # Use mean imputation later (numerical features with few missing values)\n",
    "\n",
    "target_column = \"Attrition\""
   ]
  },
  {
   "cell_type": "code",
   "execution_count": 4,
   "id": "3073be24-ed0b-402d-a408-65901c612249",
   "metadata": {},
   "outputs": [
    {
     "data": {
      "text/plain": [
       "EmployeeID\n",
       "1       0\n",
       "2       1\n",
       "3       0\n",
       "4       0\n",
       "5       0\n",
       "       ..\n",
       "4406    0\n",
       "4407    0\n",
       "4408    0\n",
       "4409    0\n",
       "4410    0\n",
       "Name: Attrition, Length: 4410, dtype: int64"
      ]
     },
     "execution_count": 4,
     "metadata": {},
     "output_type": "execute_result"
    }
   ],
   "source": [
    "target = data[target_column].map({'No': 0, 'Yes': 1})\n",
    "target"
   ]
  },
  {
   "cell_type": "code",
   "execution_count": 5,
   "id": "b7293605-a9b3-4ae5-a15d-d59bab68ee2b",
   "metadata": {},
   "outputs": [
    {
     "data": {
      "text/html": [
       "<div>\n",
       "<style scoped>\n",
       "    .dataframe tbody tr th:only-of-type {\n",
       "        vertical-align: middle;\n",
       "    }\n",
       "\n",
       "    .dataframe tbody tr th {\n",
       "        vertical-align: top;\n",
       "    }\n",
       "\n",
       "    .dataframe thead th {\n",
       "        text-align: right;\n",
       "    }\n",
       "</style>\n",
       "<table border=\"1\" class=\"dataframe\">\n",
       "  <thead>\n",
       "    <tr style=\"text-align: right;\">\n",
       "      <th></th>\n",
       "      <th>Age</th>\n",
       "      <th>DistanceFromHome</th>\n",
       "      <th>MonthlyIncome</th>\n",
       "      <th>NumCompaniesWorked</th>\n",
       "      <th>PercentSalaryHike</th>\n",
       "      <th>TotalWorkingYears</th>\n",
       "      <th>TrainingTimesLastYear</th>\n",
       "      <th>YearsAtCompany</th>\n",
       "      <th>YearsSinceLastPromotion</th>\n",
       "      <th>YearsWithCurrManager</th>\n",
       "      <th>...</th>\n",
       "      <th>Department</th>\n",
       "      <th>Education</th>\n",
       "      <th>EducationField</th>\n",
       "      <th>Gender</th>\n",
       "      <th>JobRole</th>\n",
       "      <th>MaritalStatus</th>\n",
       "      <th>JobLevel</th>\n",
       "      <th>StockOptionLevel</th>\n",
       "      <th>JobInvolvement</th>\n",
       "      <th>PerformanceRating</th>\n",
       "    </tr>\n",
       "    <tr>\n",
       "      <th>EmployeeID</th>\n",
       "      <th></th>\n",
       "      <th></th>\n",
       "      <th></th>\n",
       "      <th></th>\n",
       "      <th></th>\n",
       "      <th></th>\n",
       "      <th></th>\n",
       "      <th></th>\n",
       "      <th></th>\n",
       "      <th></th>\n",
       "      <th></th>\n",
       "      <th></th>\n",
       "      <th></th>\n",
       "      <th></th>\n",
       "      <th></th>\n",
       "      <th></th>\n",
       "      <th></th>\n",
       "      <th></th>\n",
       "      <th></th>\n",
       "      <th></th>\n",
       "      <th></th>\n",
       "    </tr>\n",
       "  </thead>\n",
       "  <tbody>\n",
       "    <tr>\n",
       "      <th>1</th>\n",
       "      <td>51</td>\n",
       "      <td>6</td>\n",
       "      <td>131160</td>\n",
       "      <td>1.0</td>\n",
       "      <td>11</td>\n",
       "      <td>1.0</td>\n",
       "      <td>6</td>\n",
       "      <td>1</td>\n",
       "      <td>0</td>\n",
       "      <td>0</td>\n",
       "      <td>...</td>\n",
       "      <td>Sales</td>\n",
       "      <td>2</td>\n",
       "      <td>Life Sciences</td>\n",
       "      <td>Female</td>\n",
       "      <td>Healthcare Representative</td>\n",
       "      <td>Married</td>\n",
       "      <td>1</td>\n",
       "      <td>0</td>\n",
       "      <td>3</td>\n",
       "      <td>3</td>\n",
       "    </tr>\n",
       "    <tr>\n",
       "      <th>2</th>\n",
       "      <td>31</td>\n",
       "      <td>10</td>\n",
       "      <td>41890</td>\n",
       "      <td>0.0</td>\n",
       "      <td>23</td>\n",
       "      <td>6.0</td>\n",
       "      <td>3</td>\n",
       "      <td>5</td>\n",
       "      <td>1</td>\n",
       "      <td>4</td>\n",
       "      <td>...</td>\n",
       "      <td>Research &amp; Development</td>\n",
       "      <td>1</td>\n",
       "      <td>Life Sciences</td>\n",
       "      <td>Female</td>\n",
       "      <td>Research Scientist</td>\n",
       "      <td>Single</td>\n",
       "      <td>1</td>\n",
       "      <td>1</td>\n",
       "      <td>2</td>\n",
       "      <td>4</td>\n",
       "    </tr>\n",
       "    <tr>\n",
       "      <th>3</th>\n",
       "      <td>32</td>\n",
       "      <td>17</td>\n",
       "      <td>193280</td>\n",
       "      <td>1.0</td>\n",
       "      <td>15</td>\n",
       "      <td>5.0</td>\n",
       "      <td>2</td>\n",
       "      <td>5</td>\n",
       "      <td>0</td>\n",
       "      <td>3</td>\n",
       "      <td>...</td>\n",
       "      <td>Research &amp; Development</td>\n",
       "      <td>4</td>\n",
       "      <td>Other</td>\n",
       "      <td>Male</td>\n",
       "      <td>Sales Executive</td>\n",
       "      <td>Married</td>\n",
       "      <td>4</td>\n",
       "      <td>3</td>\n",
       "      <td>3</td>\n",
       "      <td>3</td>\n",
       "    </tr>\n",
       "    <tr>\n",
       "      <th>4</th>\n",
       "      <td>38</td>\n",
       "      <td>2</td>\n",
       "      <td>83210</td>\n",
       "      <td>3.0</td>\n",
       "      <td>11</td>\n",
       "      <td>13.0</td>\n",
       "      <td>5</td>\n",
       "      <td>8</td>\n",
       "      <td>7</td>\n",
       "      <td>5</td>\n",
       "      <td>...</td>\n",
       "      <td>Research &amp; Development</td>\n",
       "      <td>5</td>\n",
       "      <td>Life Sciences</td>\n",
       "      <td>Male</td>\n",
       "      <td>Human Resources</td>\n",
       "      <td>Married</td>\n",
       "      <td>3</td>\n",
       "      <td>3</td>\n",
       "      <td>2</td>\n",
       "      <td>3</td>\n",
       "    </tr>\n",
       "    <tr>\n",
       "      <th>5</th>\n",
       "      <td>32</td>\n",
       "      <td>10</td>\n",
       "      <td>23420</td>\n",
       "      <td>4.0</td>\n",
       "      <td>12</td>\n",
       "      <td>9.0</td>\n",
       "      <td>2</td>\n",
       "      <td>6</td>\n",
       "      <td>0</td>\n",
       "      <td>4</td>\n",
       "      <td>...</td>\n",
       "      <td>Research &amp; Development</td>\n",
       "      <td>1</td>\n",
       "      <td>Medical</td>\n",
       "      <td>Male</td>\n",
       "      <td>Sales Executive</td>\n",
       "      <td>Single</td>\n",
       "      <td>1</td>\n",
       "      <td>2</td>\n",
       "      <td>3</td>\n",
       "      <td>3</td>\n",
       "    </tr>\n",
       "  </tbody>\n",
       "</table>\n",
       "<p>5 rows × 26 columns</p>\n",
       "</div>"
      ],
      "text/plain": [
       "            Age  DistanceFromHome  MonthlyIncome  NumCompaniesWorked   \n",
       "EmployeeID                                                             \n",
       "1            51                 6         131160                 1.0  \\\n",
       "2            31                10          41890                 0.0   \n",
       "3            32                17         193280                 1.0   \n",
       "4            38                 2          83210                 3.0   \n",
       "5            32                10          23420                 4.0   \n",
       "\n",
       "            PercentSalaryHike  TotalWorkingYears  TrainingTimesLastYear   \n",
       "EmployeeID                                                                \n",
       "1                          11                1.0                      6  \\\n",
       "2                          23                6.0                      3   \n",
       "3                          15                5.0                      2   \n",
       "4                          11               13.0                      5   \n",
       "5                          12                9.0                      2   \n",
       "\n",
       "            YearsAtCompany  YearsSinceLastPromotion  YearsWithCurrManager   \n",
       "EmployeeID                                                                  \n",
       "1                        1                        0                     0  \\\n",
       "2                        5                        1                     4   \n",
       "3                        5                        0                     3   \n",
       "4                        8                        7                     5   \n",
       "5                        6                        0                     4   \n",
       "\n",
       "            ...              Department  Education  EducationField  Gender   \n",
       "EmployeeID  ...                                                              \n",
       "1           ...                   Sales          2   Life Sciences  Female  \\\n",
       "2           ...  Research & Development          1   Life Sciences  Female   \n",
       "3           ...  Research & Development          4           Other    Male   \n",
       "4           ...  Research & Development          5   Life Sciences    Male   \n",
       "5           ...  Research & Development          1         Medical    Male   \n",
       "\n",
       "                              JobRole MaritalStatus JobLevel   \n",
       "EmployeeID                                                     \n",
       "1           Healthcare Representative       Married        1  \\\n",
       "2                  Research Scientist        Single        1   \n",
       "3                     Sales Executive       Married        4   \n",
       "4                     Human Resources       Married        3   \n",
       "5                     Sales Executive        Single        1   \n",
       "\n",
       "            StockOptionLevel JobInvolvement PerformanceRating  \n",
       "EmployeeID                                                     \n",
       "1                          0              3                 3  \n",
       "2                          1              2                 4  \n",
       "3                          3              3                 3  \n",
       "4                          3              2                 3  \n",
       "5                          2              3                 3  \n",
       "\n",
       "[5 rows x 26 columns]"
      ]
     },
     "execution_count": 5,
     "metadata": {},
     "output_type": "execute_result"
    }
   ],
   "source": [
    "data = data.drop(columns=[target_column])\n",
    "data = data[numerical_columns+categorical_columns]\n",
    "data.head()"
   ]
  },
  {
   "cell_type": "code",
   "execution_count": 6,
   "id": "e1591e7f-5bbd-4b93-b3bd-4ecf931b9a86",
   "metadata": {},
   "outputs": [],
   "source": [
    "# Convert the identified features to object data type\n",
    "data[categorical_columns] = data[categorical_columns].astype('object')"
   ]
  },
  {
   "cell_type": "code",
   "execution_count": 7,
   "id": "b92bf5df-1862-4d3b-aa89-305a333f70a1",
   "metadata": {},
   "outputs": [
    {
     "name": "stdout",
     "output_type": "stream",
     "text": [
      "<class 'pandas.core.frame.DataFrame'>\n",
      "Index: 4410 entries, 1 to 4410\n",
      "Data columns (total 14 columns):\n",
      " #   Column                   Non-Null Count  Dtype \n",
      "---  ------                   --------------  ----- \n",
      " 0   EnvironmentSatisfaction  4385 non-null   object\n",
      " 1   JobSatisfaction          4390 non-null   object\n",
      " 2   WorkLifeBalance          4372 non-null   object\n",
      " 3   BusinessTravel           4410 non-null   object\n",
      " 4   Department               4410 non-null   object\n",
      " 5   Education                4410 non-null   object\n",
      " 6   EducationField           4410 non-null   object\n",
      " 7   Gender                   4410 non-null   object\n",
      " 8   JobRole                  4410 non-null   object\n",
      " 9   MaritalStatus            4410 non-null   object\n",
      " 10  JobLevel                 4410 non-null   object\n",
      " 11  StockOptionLevel         4410 non-null   object\n",
      " 12  JobInvolvement           4410 non-null   object\n",
      " 13  PerformanceRating        4410 non-null   object\n",
      "dtypes: object(14)\n",
      "memory usage: 516.8+ KB\n"
     ]
    }
   ],
   "source": [
    "data[categorical_columns].info()"
   ]
  },
  {
   "cell_type": "code",
   "execution_count": 8,
   "id": "3fdef7fa-a653-4306-b751-7f5b6a7c7033",
   "metadata": {},
   "outputs": [],
   "source": [
    "## data split\n",
    "\n",
    "data_train, data_test, target_train, target_test = train_test_split(\n",
    "    data, target, random_state=42, test_size=0.3, stratify=target\n",
    ")\n",
    "\n",
    "cv = ShuffleSplit(n_splits=15, test_size=0.3, random_state=55)\n",
    "skf = StratifiedKFold(n_splits=15)\n",
    "\n",
    "# Create a custom scorer for F1 score with binary average\n",
    "def f1_binary_average(y_true, y_pred):\n",
    "    return f1_score(y_true, y_pred, average='binary')\n",
    "\n",
    "# Make the scorer\n",
    "f1_scorer = make_scorer(f1_binary_average)"
   ]
  },
  {
   "cell_type": "code",
   "execution_count": 9,
   "id": "96ec32b3-0e30-48bc-9a29-203311a7d2dc",
   "metadata": {},
   "outputs": [],
   "source": [
    "## log distribution for random grid search\n",
    "\n",
    "class loguniform_int:\n",
    "    \"\"\"Integer valued version of the log-uniform distribution\"\"\"\n",
    "\n",
    "    def __init__(self, a, b):\n",
    "        self._distribution = loguniform(a, b)\n",
    "\n",
    "    def rvs(self, *args, **kwargs):\n",
    "        \"\"\"Random variable sample\"\"\"\n",
    "        return self._distribution.rvs(*args, **kwargs).astype(int)"
   ]
  },
  {
   "cell_type": "markdown",
   "id": "7bc0ad12-b370-4583-8d23-26feb53f1010",
   "metadata": {},
   "source": [
    "# First model: KNeighbors"
   ]
  },
  {
   "cell_type": "code",
   "execution_count": 10,
   "id": "15803c30-07b7-4eb9-bd06-688de3dfc0f5",
   "metadata": {},
   "outputs": [],
   "source": [
    "numerical_columns_selector = selector(dtype_exclude=object)\n",
    "categorical_columns_selector = selector(dtype_include=object)\n",
    "\n",
    "numerical_columns_selected = numerical_columns_selector(data)\n",
    "categorical_columns_selected = categorical_columns_selector(data)"
   ]
  },
  {
   "cell_type": "code",
   "execution_count": 11,
   "id": "552918e0-c75d-4da9-a0bf-9d1c7112a574",
   "metadata": {},
   "outputs": [],
   "source": [
    "numerical_transformer = Pipeline(\n",
    "    steps=[\n",
    "        ('imputer', SimpleImputer(missing_values=np.nan, strategy='mean')),\n",
    "        (\"standard_scaler\", StandardScaler())\n",
    "    ]\n",
    ")\n",
    "\n",
    "categorical_transformer = Pipeline(\n",
    "    steps=[\n",
    "        ('imputer', SimpleImputer(missing_values=np.nan, strategy=\"most_frequent\")),\n",
    "        (\"encoder\", OneHotEncoder(handle_unknown=\"ignore\"))\n",
    "    ]\n",
    ")\n",
    "\n",
    "preprocessor = ColumnTransformer(\n",
    "    [\n",
    "        (\"num\", numerical_transformer, numerical_columns_selected),\n",
    "        (\"cat\", categorical_transformer, categorical_columns_selected)\n",
    "    ]\n",
    ")\n",
    "\n",
    "# Define the pipeline with scaling and hyperparameter tuning\n",
    "knn = Pipeline([\n",
    "        ('preprocessor', preprocessor),\n",
    "        ('model', CalibratedClassifierCV(\n",
    "            GridSearchCV(\n",
    "                KNeighborsClassifier(),\n",
    "                param_grid={'n_neighbors': [1, 2, 3, 4, 5, 7, 9]},\n",
    "                cv=cv,\n",
    "                scoring=f1_scorer\n",
    "                ),\n",
    "            method='isotonic',\n",
    "            cv=4\n",
    "        )\n",
    "         )\n",
    "    ])"
   ]
  },
  {
   "cell_type": "code",
   "execution_count": 12,
   "id": "38f5be0b-7c1c-467c-8bd3-b04b376e4840",
   "metadata": {},
   "outputs": [
    {
     "data": {
      "text/plain": [
       "{'fit_time': array([6.55284595, 7.4619453 , 6.82939601, 6.72839713, 7.85902786,\n",
       "        7.39452815, 7.88865519, 7.80658293, 7.00515103, 7.47314215,\n",
       "        6.66346693, 6.78300595, 7.00893903, 6.40943313, 5.93204999]),\n",
       " 'score_time': array([0.05068421, 0.04027772, 0.04259682, 0.03518176, 0.04923701,\n",
       "        0.03786683, 0.03488994, 0.04109502, 0.059232  , 0.04016185,\n",
       "        0.03979802, 0.03799009, 0.03594685, 0.03691888, 0.03315592]),\n",
       " 'test_score': array([0.85714286, 0.92537313, 0.90909091, 0.89230769, 0.90322581,\n",
       "        0.89230769, 0.8852459 , 0.90625   , 0.93939394, 0.93939394,\n",
       "        0.89230769, 0.92537313, 0.95384615, 0.93939394, 0.96875   ])}"
      ]
     },
     "execution_count": 12,
     "metadata": {},
     "output_type": "execute_result"
    }
   ],
   "source": [
    "cv_results = cross_validate(knn, data_train, target_train, cv=skf, scoring=f1_scorer)\n",
    "cv_results"
   ]
  },
  {
   "cell_type": "code",
   "execution_count": 13,
   "id": "7f7221f4-6c43-4391-b184-e44cd9fb315f",
   "metadata": {},
   "outputs": [
    {
     "name": "stdout",
     "output_type": "stream",
     "text": [
      "The mean cross-validation f1 score is: 0.915 ± 0.029\n"
     ]
    }
   ],
   "source": [
    "scores_acc = cv_results[\"test_score\"]\n",
    "print(\n",
    "    \"The mean cross-validation f1 score is: \"\n",
    "    f\"{scores_acc.mean():.3f} ± {scores_acc.std():.3f}\"\n",
    ")"
   ]
  },
  {
   "cell_type": "code",
   "execution_count": 14,
   "id": "f5c01252-72f2-4743-ac1b-f8d176989215",
   "metadata": {},
   "outputs": [
    {
     "name": "stdout",
     "output_type": "stream",
     "text": [
      "Model Accuracy:  0.9765684051398337\n",
      "Classification Report: \n",
      "               precision    recall  f1-score   support\n",
      "\n",
      "           0       0.99      0.98      0.99      1110\n",
      "           1       0.92      0.93      0.93       213\n",
      "\n",
      "    accuracy                           0.98      1323\n",
      "   macro avg       0.95      0.96      0.96      1323\n",
      "weighted avg       0.98      0.98      0.98      1323\n",
      "\n",
      "Confusion Matrix: \n",
      " [[1093   17]\n",
      " [  14  199]]\n"
     ]
    }
   ],
   "source": [
    "# Train the pipeline\n",
    "knn.fit(data_train, target_train)\n",
    "\n",
    "# Predict on the testing set\n",
    "target_predicted = knn.predict(data_test)\n",
    "\n",
    "# Evaluate the model\n",
    "accuracy = accuracy_score(target_test, target_predicted)\n",
    "print(\"Model Accuracy: \", accuracy)\n",
    "print(\"Classification Report: \\n\", classification_report(target_test, target_predicted))\n",
    "print(\"Confusion Matrix: \\n\", confusion_matrix(target_test, target_predicted))"
   ]
  },
  {
   "cell_type": "code",
   "execution_count": 32,
   "id": "50dd8d6a-cfc5-4cd0-8cf7-95683706711f",
   "metadata": {},
   "outputs": [
    {
     "data": {
      "image/png": "[encoded data removed]",
      "text/plain": [
       "<Figure size 640x480 with 1 Axes>"
      ]
     },
     "metadata": {},
     "output_type": "display_data"
    }
   ],
   "source": [
    "# ROC Curve\n",
    "\n",
    "# Predict probabilities on the test set\n",
    "target_pred_proba = knn.predict_proba(data_test)[:, 1]\n",
    "\n",
    "# Calculate ROC curve\n",
    "fpr, tpr, thresholds = roc_curve(target_test, target_pred_proba) \n",
    "roc_auc = auc(fpr, tpr)\n",
    "# Plot the ROC curve\n",
    "plt.figure()  \n",
    "plt.plot(fpr, tpr, label='ROC curve (area = %0.2f)' % roc_auc)\n",
    "plt.plot([0, 1], [0, 1], 'k--', label='No Skill')\n",
    "plt.xlim([0.0, 1.0])\n",
    "plt.ylim([0.0, 1.05])\n",
    "plt.xlabel('False Positive Rate')\n",
    "plt.ylabel('True Positive Rate')\n",
    "plt.title('ROC Curve for Attrition Classification')\n",
    "plt.legend()\n",
    "plt.show()"
   ]
  },
  {
   "cell_type": "markdown",
   "id": "a9ac9156-5c35-4c60-9c7d-440d45db5f83",
   "metadata": {},
   "source": [
    "# Second model: Logistic regression\n"
   ]
  },
  {
   "cell_type": "code",
   "execution_count": 15,
   "id": "bc9b1e13-0e65-4816-8b6e-1b56a331532f",
   "metadata": {},
   "outputs": [],
   "source": [
    "Logistic_reg = Pipeline([\n",
    "        ('preprocessor', preprocessor),\n",
    "        ('model', CalibratedClassifierCV(\n",
    "            RandomizedSearchCV(\n",
    "                LogisticRegression(max_iter=1000), param_distributions={'C': loguniform(1e-6, 1e6) },\n",
    "                cv=cv, scoring=f1_scorer),\n",
    "            method='isotonic',\n",
    "            cv=4\n",
    "        )\n",
    "         )\n",
    "    ])"
   ]
  },
  {
   "cell_type": "code",
   "execution_count": 16,
   "id": "76403472-8e87-492b-8a2c-710376ff0913",
   "metadata": {},
   "outputs": [
    {
     "data": {
      "text/plain": [
       "{'fit_time': array([15.64995098, 13.38289785, 12.70238495, 15.27561283, 12.42881107,\n",
       "        15.333992  , 15.94919562, 14.61918497, 16.0126431 , 12.54389572,\n",
       "        14.40505219, 13.94151211, 14.65580392, 14.63854218, 15.15190983]),\n",
       " 'score_time': array([0.01834297, 0.01900911, 0.01841307, 0.01737022, 0.0182209 ,\n",
       "        0.01713777, 0.01914716, 0.01946211, 0.018152  , 0.01643705,\n",
       "        0.01810169, 0.01689696, 0.02110577, 0.01780391, 0.01749301]),\n",
       " 'test_score': array([0.42553191, 0.36363636, 0.41666667, 0.44      , 0.39130435,\n",
       "        0.20408163, 0.27272727, 0.34782609, 0.26086957, 0.48979592,\n",
       "        0.41509434, 0.375     , 0.48      , 0.40909091, 0.20512821])}"
      ]
     },
     "execution_count": 16,
     "metadata": {},
     "output_type": "execute_result"
    }
   ],
   "source": [
    "cv_results = cross_validate(Logistic_reg, data_train, target_train, cv=skf, scoring=f1_scorer)\n",
    "cv_results"
   ]
  },
  {
   "cell_type": "code",
   "execution_count": 17,
   "id": "bf19d212-3654-4bc9-8755-35b886e2a510",
   "metadata": {},
   "outputs": [
    {
     "name": "stdout",
     "output_type": "stream",
     "text": [
      "The mean cross-validation f1 score is: 0.366 ± 0.088\n"
     ]
    }
   ],
   "source": [
    "scores = cv_results[\"test_score\"]\n",
    "print(\n",
    "    \"The mean cross-validation f1 score is: \"\n",
    "    f\"{scores.mean():.3f} ± {scores.std():.3f}\"\n",
    ")"
   ]
  },
  {
   "cell_type": "code",
   "execution_count": 18,
   "id": "c1b640c4-9fe7-4352-8cb0-c0ec855f7d50",
   "metadata": {},
   "outputs": [
    {
     "name": "stdout",
     "output_type": "stream",
     "text": [
      "Model Accuracy:  0.8594104308390023\n",
      "Classification Report: \n",
      "               precision    recall  f1-score   support\n",
      "\n",
      "           0       0.88      0.97      0.92      1110\n",
      "           1       0.65      0.28      0.39       213\n",
      "\n",
      "    accuracy                           0.86      1323\n",
      "   macro avg       0.76      0.62      0.65      1323\n",
      "weighted avg       0.84      0.86      0.83      1323\n",
      "\n",
      "Confusion Matrix: \n",
      " [[1078   32]\n",
      " [ 154   59]]\n"
     ]
    }
   ],
   "source": [
    "# Train the pipeline\n",
    "Logistic_reg.fit(data_train, target_train)\n",
    "\n",
    "# Predict on the testing set\n",
    "target_predicted = Logistic_reg.predict(data_test)\n",
    "\n",
    "# Evaluate the model\n",
    "accuracy = accuracy_score(target_test, target_predicted)\n",
    "print(\"Model Accuracy: \", accuracy)\n",
    "print(\"Classification Report: \\n\", classification_report(target_test, target_predicted))\n",
    "print(\"Confusion Matrix: \\n\", confusion_matrix(target_test, target_predicted))"
   ]
  },
  {
   "cell_type": "code",
   "execution_count": 19,
   "id": "10916145-061f-4eee-9637-8827f7a102aa",
   "metadata": {},
   "outputs": [],
   "source": [
    "#print(f\"The best set of parameters is: {Logistic_reg['model'].best_params_}\")"
   ]
  },
  {
   "cell_type": "code",
   "execution_count": 20,
   "id": "c9dcd256-0fed-47ff-925b-b108cd665f79",
   "metadata": {},
   "outputs": [
    {
     "data": {
      "image/png": "[encoded data removed]",
      "text/plain": [
       "<Figure size 640x480 with 1 Axes>"
      ]
     },
     "metadata": {},
     "output_type": "display_data"
    }
   ],
   "source": [
    "# ROC Curve\n",
    "\n",
    "# Predict probabilities on the test set\n",
    "target_pred_proba = Logistic_reg.predict_proba(data_test)[:, 1]\n",
    "\n",
    "# Calculate ROC curve\n",
    "fpr, tpr, thresholds = roc_curve(target_test, target_pred_proba) \n",
    "roc_auc = auc(fpr, tpr)\n",
    "# Plot the ROC curve\n",
    "plt.figure()  \n",
    "plt.plot(fpr, tpr, label='ROC curve (area = %0.2f)' % roc_auc)\n",
    "plt.plot([0, 1], [0, 1], 'k--', label='No Skill')\n",
    "plt.xlim([0.0, 1.0])\n",
    "plt.ylim([0.0, 1.05])\n",
    "plt.xlabel('False Positive Rate')\n",
    "plt.ylabel('True Positive Rate')\n",
    "plt.title('ROC Curve for Attrition Classification')\n",
    "plt.legend()\n",
    "plt.show()"
   ]
  },
  {
   "cell_type": "markdown",
   "id": "8502c6ae-288b-4cc0-a8ae-50b397a4d04c",
   "metadata": {},
   "source": [
    "# Third model: Decision Tree"
   ]
  },
  {
   "cell_type": "code",
   "execution_count": 21,
   "id": "38fbcbbb-9da0-487d-8553-64e04611e7e1",
   "metadata": {},
   "outputs": [],
   "source": [
    "# Define the parameter grid for RandomizedSearchCV\n",
    "param_distributions = {\n",
    "    'criterion': ['gini', 'entropy'],\n",
    "    'splitter': ['best', 'random'],\n",
    "    'max_depth': randint(1, 20),  # Random integer values between 1 and 20\n",
    "    'min_samples_split': randint(2, 20),  # Random integer values between 2 and 20\n",
    "    'min_samples_leaf': randint(1, 20)  # Random integer values between 1 and 20\n",
    "}\n",
    "\n",
    "Tree = Pipeline([\n",
    "        ('preprocessor', preprocessor),\n",
    "        ('model', CalibratedClassifierCV(\n",
    "            RandomizedSearchCV(\n",
    "                DecisionTreeClassifier(random_state=0), param_distributions=param_distributions,\n",
    "                cv=cv, scoring=f1_scorer),\n",
    "            method='isotonic',\n",
    "            cv=4\n",
    "        )\n",
    "         )\n",
    "    ])\n",
    "\n"
   ]
  },
  {
   "cell_type": "code",
   "execution_count": 22,
   "id": "c3e9d230-b8a6-4987-addb-a3f7e220cc65",
   "metadata": {},
   "outputs": [
    {
     "data": {
      "text/plain": [
       "{'fit_time': array([9.37139702, 8.1216929 , 8.50587702, 8.04419303, 8.95390606,\n",
       "        9.18378806, 9.13765693, 9.77060294, 8.68359184, 8.49462724,\n",
       "        8.64224482, 8.79570293, 8.92245793, 8.76527834, 8.28049803]),\n",
       " 'score_time': array([0.01828003, 0.01496029, 0.01486802, 0.02106714, 0.01578212,\n",
       "        0.01752973, 0.01595998, 0.01546597, 0.01752329, 0.0151639 ,\n",
       "        0.01606488, 0.0143609 , 0.015589  , 0.01511788, 0.01842189]),\n",
       " 'test_score': array([0.56      , 0.66666667, 0.69230769, 0.8       , 0.70588235,\n",
       "        0.82142857, 0.5       , 0.70588235, 0.70588235, 0.69230769,\n",
       "        0.57692308, 0.53061224, 0.8       , 0.625     , 0.65306122])}"
      ]
     },
     "execution_count": 22,
     "metadata": {},
     "output_type": "execute_result"
    }
   ],
   "source": [
    "cv_results = cross_validate(Tree, data_train, target_train, cv=skf, scoring=f1_scorer)\n",
    "cv_results"
   ]
  },
  {
   "cell_type": "code",
   "execution_count": 23,
   "id": "184160d6-146c-4dfd-8f0f-d71f7ba942ad",
   "metadata": {},
   "outputs": [
    {
     "name": "stdout",
     "output_type": "stream",
     "text": [
      "The mean cross-validation accuracy is: 0.669 ± 0.094\n"
     ]
    }
   ],
   "source": [
    "scores = cv_results[\"test_score\"]\n",
    "print(\n",
    "    \"The mean cross-validation accuracy is: \"\n",
    "    f\"{scores.mean():.3f} ± {scores.std():.3f}\"\n",
    ")"
   ]
  },
  {
   "cell_type": "code",
   "execution_count": 24,
   "id": "c646ce13-fe1c-4b5e-a04b-9c099b5aafc8",
   "metadata": {},
   "outputs": [
    {
     "name": "stdout",
     "output_type": "stream",
     "text": [
      "Model Accuracy:  0.9319727891156463\n",
      "Classification Report: \n",
      "               precision    recall  f1-score   support\n",
      "\n",
      "           0       0.93      1.00      0.96      1110\n",
      "           1       0.96      0.60      0.74       213\n",
      "\n",
      "    accuracy                           0.93      1323\n",
      "   macro avg       0.95      0.80      0.85      1323\n",
      "weighted avg       0.93      0.93      0.93      1323\n",
      "\n",
      "Confusion Matrix: \n",
      " [[1105    5]\n",
      " [  85  128]]\n"
     ]
    }
   ],
   "source": [
    "# Train the pipeline\n",
    "Tree.fit(data_train, target_train)\n",
    "\n",
    "# Predict on the testing set\n",
    "target_predicted = Tree.predict(data_test)\n",
    "\n",
    "# Evaluate the model\n",
    "accuracy = accuracy_score(target_test, target_predicted)\n",
    "print(\"Model Accuracy: \", accuracy)\n",
    "print(\"Classification Report: \\n\", classification_report(target_test, target_predicted))\n",
    "print(\"Confusion Matrix: \\n\", confusion_matrix(target_test, target_predicted))"
   ]
  },
  {
   "cell_type": "code",
   "execution_count": null,
   "id": "acec0571-c75f-41ab-a8ff-acb780af31aa",
   "metadata": {},
   "outputs": [],
   "source": [
    "#print(f\"The best set of parameters is: {Tree['model'].best_params_}\")"
   ]
  },
  {
   "cell_type": "code",
   "execution_count": null,
   "id": "e7bc1ab1-c087-4586-9236-d047cfd58ac4",
   "metadata": {},
   "outputs": [],
   "source": [
    "# new_data = Tree['preprocessor'].fit_transform(data)\n",
    "# col = [col_name for col_name in numerical_columns]\n",
    "# col.extend(Tree['preprocessor'].transformers_[1][1]['encoder'].get_feature_names_out(\n",
    "#     input_features=categorical_columns\n",
    "# )\n",
    "#                         )\n",
    "\n",
    "# viz = dtreeviz.model(Tree['model'].best_estimator_, pd.DataFrame(new_data, index=data.index, columns=col), target,\n",
    "#            target_name='Attrition',\n",
    "#            feature_names=col, \n",
    "#            class_names=list(target.unique()))  \n",
    "\n",
    "# # In a notebook, you can render inline without calling show()\n",
    "# viz.view(scale=1.4) \n",
    "# # Uncomment to save with scale 1\n",
    "# #vizRender = viz.view(scale=1)\n",
    "# #vizRender.save(\"attrition_decision_tree.svg\""
   ]
  },
  {
   "cell_type": "code",
   "execution_count": null,
   "id": "5a416fb0-c65d-4255-a5bf-c0a00340a3cd",
   "metadata": {},
   "outputs": [],
   "source": [
    "# importances = Tree['model'].best_estimator_.feature_importances_\n",
    "# feature_names = np.array(col) # Assuming feature names are like [0, 1, 2, ..., n_features-1]\n",
    "\n",
    "# # Sort feature importances in descending order\n",
    "# sorted_indices = np.argsort(importances)[::-1]\n",
    "# sorted_importances = importances[sorted_indices]\n",
    "# sorted_feature_names = feature_names[sorted_indices]\n",
    "\n",
    "# # Plot feature importances using seaborn\n",
    "# plt.figure(figsize=(15, 15))\n",
    "# sns.barplot(x=sorted_importances, y=sorted_feature_names, palette='viridis')\n",
    "# plt.xlabel('Feature Importance')\n",
    "# plt.ylabel('Feature')\n",
    "# plt.title('Decision Tree Classifier - Feature Importance')\n",
    "# plt.show()"
   ]
  },
  {
   "cell_type": "code",
   "execution_count": 25,
   "id": "f599d044-554a-424b-bd38-c43ef7267ef9",
   "metadata": {},
   "outputs": [
    {
     "data": {
      "image/png": "[encoded data removed]",
      "text/plain": [
       "<Figure size 640x480 with 1 Axes>"
      ]
     },
     "metadata": {},
     "output_type": "display_data"
    }
   ],
   "source": [
    "# ROC Curve\n",
    "\n",
    "# Predict probabilities on the test set\n",
    "target_pred_proba = Tree.predict_proba(data_test)[:, 1]\n",
    "\n",
    "# Calculate ROC curve\n",
    "fpr, tpr, thresholds = roc_curve(target_test, target_pred_proba) \n",
    "roc_auc = auc(fpr, tpr)\n",
    "# Plot the ROC curve\n",
    "plt.figure()  \n",
    "plt.plot(fpr, tpr, label='ROC curve (area = %0.2f)' % roc_auc)\n",
    "plt.plot([0, 1], [0, 1], 'k--', label='No Skill')\n",
    "plt.xlim([0.0, 1.0])\n",
    "plt.ylim([0.0, 1.05])\n",
    "plt.xlabel('False Positive Rate')\n",
    "plt.ylabel('True Positive Rate')\n",
    "plt.title('ROC Curve for Attrition Classification')\n",
    "plt.legend()\n",
    "plt.show()"
   ]
  },
  {
   "cell_type": "markdown",
   "id": "8529e9b3-6eaf-4e86-b42f-569ea586cd9b",
   "metadata": {},
   "source": [
    "# A more powerful model"
   ]
  },
  {
   "cell_type": "code",
   "execution_count": 26,
   "id": "b13e9684-82a6-4948-b11e-f6a054bd92d1",
   "metadata": {},
   "outputs": [],
   "source": [
    "numerical_transformer = Pipeline(\n",
    "    steps=[\n",
    "        ('imputer', SimpleImputer(missing_values=np.nan, strategy='mean')),\n",
    "    ]\n",
    ")\n",
    "\n",
    "categorical_transformer = Pipeline(\n",
    "    steps=[\n",
    "        ('imputer', SimpleImputer(missing_values=np.nan, strategy=\"most_frequent\")),\n",
    "        (\"encoder\", OrdinalEncoder(\n",
    "    handle_unknown=\"use_encoded_value\", unknown_value=-1\n",
    "))\n",
    "    ]\n",
    ")\n",
    "\n",
    "preprocessor = ColumnTransformer(\n",
    "    [\n",
    "        (\"cat\", categorical_transformer, categorical_columns_selected),\n",
    "        (\"num\", numerical_transformer, numerical_columns_selected),\n",
    "    ]\n",
    ")\n",
    "\n",
    "param_distributions = {\n",
    "    \"l2_regularization\": loguniform(1e-6, 1e3),\n",
    "    \"learning_rate\": loguniform(0.001, 10),\n",
    "    \"max_leaf_nodes\": loguniform_int(2, 256),\n",
    "    \"min_samples_leaf\": loguniform_int(1, 100),\n",
    "    \"max_bins\": loguniform_int(2, 255),\n",
    "}\n",
    "\n",
    "\n",
    "HistBoost = Pipeline([\n",
    "        ('preprocessor', preprocessor),\n",
    "        ('model', CalibratedClassifierCV(\n",
    "            RandomizedSearchCV(\n",
    "                HistGradientBoostingClassifier(random_state=42),\n",
    "                param_distributions=param_distributions,\n",
    "                cv=cv, scoring=f1_scorer),\n",
    "            method='isotonic',\n",
    "            cv=4\n",
    "        )\n",
    "         )\n",
    "    ])"
   ]
  },
  {
   "cell_type": "code",
   "execution_count": 27,
   "id": "ec7f0fd8-b666-46f6-9b54-792167dff9cd",
   "metadata": {},
   "outputs": [
    {
     "data": {
      "text/plain": [
       "{'fit_time': array([221.16336465, 246.28721404, 141.62999296, 203.83920288,\n",
       "        205.04872894, 214.90018892, 373.94380903, 289.96388078,\n",
       "        235.88609195, 207.98631287, 176.50820303, 277.62224293,\n",
       "        336.15859103, 300.69305491, 289.26565814]),\n",
       " 'score_time': array([0.03089118, 0.02877498, 0.02739096, 0.03122211, 0.05747008,\n",
       "        0.02972007, 0.03371978, 0.0282321 , 0.02783513, 0.03380799,\n",
       "        0.02877212, 0.02976894, 0.03427887, 0.02912617, 0.03715992]),\n",
       " 'test_score': array([0.92063492, 0.92063492, 0.93548387, 0.88135593, 0.95238095,\n",
       "        0.93548387, 0.87096774, 0.91803279, 0.91803279, 0.95384615,\n",
       "        0.875     , 0.92063492, 0.96875   , 0.95238095, 0.96969697])}"
      ]
     },
     "execution_count": 27,
     "metadata": {},
     "output_type": "execute_result"
    }
   ],
   "source": [
    "cv_results = cross_validate(HistBoost, data_train, target_train, cv=skf, scoring=f1_scorer)\n",
    "cv_results"
   ]
  },
  {
   "cell_type": "code",
   "execution_count": 28,
   "id": "1e415743-5ec3-46a6-afa9-2b17639268e6",
   "metadata": {},
   "outputs": [
    {
     "name": "stdout",
     "output_type": "stream",
     "text": [
      "The mean cross-validation f1 score is: 0.926 ± 0.030\n"
     ]
    }
   ],
   "source": [
    "scores = cv_results[\"test_score\"]\n",
    "print(\n",
    "    \"The mean cross-validation f1 score is: \"\n",
    "    f\"{scores.mean():.3f} ± {scores.std():.3f}\"\n",
    ")"
   ]
  },
  {
   "cell_type": "code",
   "execution_count": 29,
   "id": "f98280f2-758d-4cde-9150-ed0cb2490b57",
   "metadata": {},
   "outputs": [
    {
     "name": "stdout",
     "output_type": "stream",
     "text": [
      "Model Accuracy:  0.9841269841269841\n",
      "Classification Report: \n",
      "               precision    recall  f1-score   support\n",
      "\n",
      "           0       0.99      0.99      0.99      1110\n",
      "           1       0.97      0.93      0.95       213\n",
      "\n",
      "    accuracy                           0.98      1323\n",
      "   macro avg       0.98      0.96      0.97      1323\n",
      "weighted avg       0.98      0.98      0.98      1323\n",
      "\n",
      "Confusion Matrix: \n",
      " [[1104    6]\n",
      " [  15  198]]\n"
     ]
    }
   ],
   "source": [
    "# Train the pipeline\n",
    "HistBoost.fit(data_train, target_train)\n",
    "\n",
    "# Predict on the testing set\n",
    "target_predicted = HistBoost.predict(data_test)\n",
    "\n",
    "# Evaluate the model\n",
    "accuracy = accuracy_score(target_test, target_predicted)\n",
    "print(\"Model Accuracy: \", accuracy)\n",
    "print(\"Classification Report: \\n\", classification_report(target_test, target_predicted))\n",
    "print(\"Confusion Matrix: \\n\", confusion_matrix(target_test, target_predicted))"
   ]
  },
  {
   "cell_type": "code",
   "execution_count": null,
   "id": "0f8e5eeb-a506-47cf-ac7e-d9badcea7418",
   "metadata": {},
   "outputs": [],
   "source": [
    "#print(f\"The best set of parameters is: {HistBoost['model'].best_params_}\")"
   ]
  },
  {
   "cell_type": "code",
   "execution_count": null,
   "id": "edb4d4b3-ef96-43d0-8730-ea59547b01aa",
   "metadata": {},
   "outputs": [],
   "source": [
    "result = permutation_importance(HistBoost, data, target, n_repeats=10,random_state=3)\n",
    "feature_names = np.array(numerical_columns+categorical_columns)\n",
    "\n",
    "indices = np.argsort(result.importances_mean)\n",
    "\n",
    "# Plot the feature importances of the forest\n",
    "plt.figure()\n",
    "plt.title(\"Feature importances\")\n",
    "plt.barh(range(len(indices)), result.importances_mean[indices],\n",
    "       color=\"r\", xerr=result.importances_std[indices], align=\"center\")\n",
    "# If you want to define your own labels,\n",
    "# change indices to a list of labels on the following line.\n",
    "plt.yticks(range(len(indices)), feature_names[indices])\n",
    "plt.ylim([-1, len(indices)])\n",
    "plt.show()"
   ]
  },
  {
   "cell_type": "code",
   "execution_count": 31,
   "id": "5c14f399-9381-4edb-a990-1d49c9e373da",
   "metadata": {},
   "outputs": [
    {
     "data": {
      "image/png": "[encoded data removed]",
      "text/plain": [
       "<Figure size 640x480 with 1 Axes>"
      ]
     },
     "metadata": {},
     "output_type": "display_data"
    }
   ],
   "source": [
    "# ROC Curve\n",
    "\n",
    "# Predict probabilities on the test set\n",
    "target_pred_proba = HistBoost.predict_proba(data_test)[:, 1]\n",
    "\n",
    "# Calculate ROC curve\n",
    "fpr, tpr, thresholds = roc_curve(target_test, target_pred_proba) \n",
    "roc_auc = auc(fpr, tpr)\n",
    "# Plot the ROC curve\n",
    "plt.figure()  \n",
    "plt.plot(fpr, tpr, label='ROC curve (area = %0.2f)' % roc_auc)\n",
    "plt.plot([0, 1], [0, 1], 'k--', label='No Skill')\n",
    "plt.xlim([0.0, 1.0])\n",
    "plt.ylim([0.0, 1.05])\n",
    "plt.xlabel('False Positive Rate')\n",
    "plt.ylabel('True Positive Rate')\n",
    "plt.title('ROC Curve for Attrition Classification')\n",
    "plt.legend()\n",
    "plt.show()"
   ]
  },
  {
   "cell_type": "code",
   "execution_count": null,
   "id": "735c00ee-7456-4433-8bb0-c73db3bd7f97",
   "metadata": {},
   "outputs": [],
   "source": []
  }
 ],
 "metadata": {
  "kernelspec": {
   "display_name": "Python3.8 kernel",
   "language": "python",
   "name": "kernelpython3.8"
  },
  "language_info": {
   "codemirror_mode": {
    "name": "ipython",
    "version": 3
   },
   "file_extension": ".py",
   "mimetype": "text/x-python",
   "name": "python",
   "nbconvert_exporter": "python",
   "pygments_lexer": "ipython3",
   "version": "3.8.0"
  }
 },
 "nbformat": 4,
 "nbformat_minor": 5
}
